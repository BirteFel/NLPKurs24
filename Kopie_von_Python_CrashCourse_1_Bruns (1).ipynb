{
  "nbformat": 4,
  "nbformat_minor": 0,
  "metadata": {
    "colab": {
      "provenance": []
    },
    "kernelspec": {
      "name": "python3",
      "display_name": "Python 3"
    },
    "language_info": {
      "name": "python"
    }
  },
  "cells": [
    {
      "cell_type": "markdown",
      "source": [
        "# Getting Started\n",
        "\n",
        "Created by Sarah Oberbichler [![ORCID](https://info.orcid.org/wp-content/uploads/2019/11/orcid_16x16.png)](https://orcid.org/0000-0002-1031-2759)\n"
      ],
      "metadata": {
        "id": "NH7ow5o9WcSw"
      }
    },
    {
      "cell_type": "markdown",
      "source": [
        "To run code, click the play button that appears when hovering over the left margin of the code cell, or use the keyboard shortcut Ctrl+Enter. The code will then execute, and its output will be displayed below the code cell. See also what happens, if you remove the quotation marks."
      ],
      "metadata": {
        "id": "QC0OpzlW1nRA"
      }
    },
    {
      "cell_type": "code",
      "source": [
        "print(\"Ready, set, GO!\")"
      ],
      "metadata": {
        "id": "BXz52tb-Ws-q",
        "colab": {
          "base_uri": "https://localhost:8080/"
        },
        "outputId": "ad22d927-3be0-4b75-a73b-ff6cedcb4f54"
      },
      "execution_count": 1,
      "outputs": [
        {
          "output_type": "stream",
          "name": "stdout",
          "text": [
            "Ready, set, GO!\n"
          ]
        }
      ]
    },
    {
      "cell_type": "markdown",
      "source": [
        "Let's do some simple math. Run the code to see how much 50 * 17 is. Try the same with plus, minus and fraction"
      ],
      "metadata": {
        "id": "MjXqAK-rcIlY"
      }
    },
    {
      "cell_type": "markdown",
      "source": [],
      "metadata": {
        "id": "vyUwF-E442js"
      }
    },
    {
      "cell_type": "code",
      "source": [
        "50 * 17\n",
        "50 + 17\n",
        "50 - 17"
      ],
      "metadata": {
        "id": "Y6TBnFqfYW5O",
        "colab": {
          "base_uri": "https://localhost:8080/"
        },
        "outputId": "52cd0e44-3f96-44e7-cb80-642af7d9ac8a"
      },
      "execution_count": 7,
      "outputs": [
        {
          "output_type": "execute_result",
          "data": {
            "text/plain": [
              "33"
            ]
          },
          "metadata": {},
          "execution_count": 7
        }
      ]
    },
    {
      "cell_type": "markdown",
      "source": [
        "#Variable Assignment\n",
        "\n",
        "A variable acts like a container or label for a piece of data, allowing you to easily access and manipulate that information later.\n",
        "\n",
        "When you connect a name to a specific piece of data, you can then use that name to retrieve the data or perform operations on it.\n",
        "\n",
        "To create a variable, use the = symbol. Put the name you want to give your data on the left side of the equals sign, and the actual data (or \"value\") on the right side.\n",
        "\n",
        "\n",
        "*chosen_name = data_or_value*\n",
        "\n",
        "This action doesn't produce any immediate visible result. Instead, it saves the connection between the name and the data in the computer's memory. You can then use this name throughout your coding session to refer back to that specific piece of data.\n",
        "\n",
        "\n",
        "\n",
        "\n"
      ],
      "metadata": {
        "id": "Wk9VQusadbbR"
      }
    },
    {
      "cell_type": "code",
      "source": [
        "# @markdown ##### Run the cell\n",
        "x = 2"
      ],
      "metadata": {
        "id": "1MgleKd3dHOC"
      },
      "execution_count": 8,
      "outputs": []
    },
    {
      "cell_type": "code",
      "source": [
        "# @markdown ##### Now print x\n",
        "\n",
        "# add your code here below:\n",
        "\n",
        "print(x)"
      ],
      "metadata": {
        "id": "y-GFAs7EXK-l",
        "colab": {
          "base_uri": "https://localhost:8080/"
        },
        "outputId": "1b1dc363-8c89-483d-b9ed-0999a016afa2"
      },
      "execution_count": 9,
      "outputs": [
        {
          "output_type": "stream",
          "name": "stdout",
          "text": [
            "2\n"
          ]
        }
      ]
    },
    {
      "cell_type": "code",
      "source": [
        "# @markdown ##### Can you tell what happens here?\n",
        "print(x * 2)\n",
        "print(x == x)\n",
        "print(x > 6)"
      ],
      "metadata": {
        "id": "iFRbU1CgXXHs",
        "colab": {
          "base_uri": "https://localhost:8080/"
        },
        "outputId": "e65fa650-8d2b-4d11-f136-fe1cd931bdca"
      },
      "execution_count": 10,
      "outputs": [
        {
          "output_type": "stream",
          "name": "stdout",
          "text": [
            "4\n",
            "True\n",
            "False\n"
          ]
        }
      ]
    },
    {
      "cell_type": "markdown",
      "source": [
        "You can use a variable to store any type of data. In our previous example, we stored text (known as a string) in a variable. It's important to remember that when working with text, you need to enclose it in quotation marks.\n",
        "\n",
        "The term 'variable' comes from the fact that their contents can change. You have the flexibility to update what's stored in a variable at any time. However, be cautious: if you use the same variable name again with a new value, it will replace the original data stored there."
      ],
      "metadata": {
        "id": "5pwzm6CgWRoI"
      }
    },
    {
      "cell_type": "code",
      "source": [
        "political_party = 'CDU'"
      ],
      "metadata": {
        "id": "XAprLw91WAEk"
      },
      "execution_count": 11,
      "outputs": []
    },
    {
      "cell_type": "code",
      "source": [
        "political_party"
      ],
      "metadata": {
        "id": "pUaJy6K5WC3G",
        "colab": {
          "base_uri": "https://localhost:8080/",
          "height": 35
        },
        "outputId": "e53ff4b0-c975-4b83-e640-cb97014b63ad"
      },
      "execution_count": 12,
      "outputs": [
        {
          "output_type": "execute_result",
          "data": {
            "text/plain": [
              "'CDU'"
            ],
            "application/vnd.google.colaboratory.intrinsic+json": {
              "type": "string"
            }
          },
          "metadata": {},
          "execution_count": 12
        }
      ]
    },
    {
      "cell_type": "code",
      "source": [
        "#Let's add another political party:\n",
        "political_party = 'AFD'"
      ],
      "metadata": {
        "id": "-tzQvJB5WH-f"
      },
      "execution_count": 13,
      "outputs": []
    },
    {
      "cell_type": "code",
      "source": [
        "political_party"
      ],
      "metadata": {
        "id": "ttMmrnm_WJxM",
        "colab": {
          "base_uri": "https://localhost:8080/",
          "height": 35
        },
        "outputId": "8bf78d49-ebbe-42ea-94f2-c601404c5fb3"
      },
      "execution_count": 14,
      "outputs": [
        {
          "output_type": "execute_result",
          "data": {
            "text/plain": [
              "'AFD'"
            ],
            "application/vnd.google.colaboratory.intrinsic+json": {
              "type": "string"
            }
          },
          "metadata": {},
          "execution_count": 14
        }
      ]
    },
    {
      "cell_type": "code",
      "source": [
        "# @markdown ##### **Exercise 1:** How could we solce this problem? How can we save both political parties?\n",
        "\n",
        "#add your code here below\n",
        "\n",
        "political_party = [\"CDU\", \"AFD\"]\n",
        "print(political_party)\n",
        "print(political_party[0])\n",
        "print(political_party[1])\n"
      ],
      "metadata": {
        "id": "h3DhyNmlXnoc",
        "colab": {
          "base_uri": "https://localhost:8080/"
        },
        "outputId": "54661e90-6edd-41e5-aba7-c3f4af8a57d0"
      },
      "execution_count": 18,
      "outputs": [
        {
          "output_type": "stream",
          "name": "stdout",
          "text": [
            "['CDU', 'AFD']\n",
            "CDU\n",
            "AFD\n"
          ]
        }
      ]
    },
    {
      "cell_type": "code",
      "source": [
        "# @markdown ##### **Exercise 2:** Write a simpple program that calculates how many minutes there are in seven weeks. Use variables for this exercise.\n",
        "\n",
        "minutes_per_hour = 60\n",
        "minutes_per_day = 60 * 24\n",
        "minutes_per_week = minutes_per_day * 7\n",
        "minutes_per_seven_weeks = minutes_per_week * 7\n",
        "print(minutes_per_seven_weeks)\n",
        "\n",
        "\n",
        "\n"
      ],
      "metadata": {
        "id": "BngMw19pbVqI",
        "colab": {
          "base_uri": "https://localhost:8080/"
        },
        "outputId": "e0230bcd-1e2d-4c6b-f8b4-4b659fb9240a"
      },
      "execution_count": 21,
      "outputs": [
        {
          "output_type": "stream",
          "name": "stdout",
          "text": [
            "70560\n"
          ]
        }
      ]
    },
    {
      "cell_type": "markdown",
      "source": [
        "# String Manipulation\n",
        "Many disciplines within the humanities work on texts. Quite naturally programming for the humanities will focus a lot on manipulating texts. Strings can -  just as numbers - be added, or, more precisely, concatenated, together."
      ],
      "metadata": {
        "id": "hMqNG1pwgMO3"
      }
    },
    {
      "cell_type": "code",
      "source": [
        "# @markdown #####  Add your name to the variable \"my_name\" and run the code\n",
        "\n",
        "my_name = 'Birte'\n",
        "book = \"Man without Women\"\n",
        "author = 'Haruki Murakami'\n",
        "print(my_name + \" likes \" + book + \" by \" + author)\n",
        "\n",
        "\n"
      ],
      "metadata": {
        "id": "NZq6-lKVgurB",
        "colab": {
          "base_uri": "https://localhost:8080/"
        },
        "outputId": "c7f081b5-51f6-4f4b-9e79-bcd1c1f1d4f2"
      },
      "execution_count": 22,
      "outputs": [
        {
          "output_type": "stream",
          "name": "stdout",
          "text": [
            "Birte likes Man without Women by Haruki Murakami\n"
          ]
        }
      ]
    },
    {
      "cell_type": "code",
      "source": [
        "# @markdown ##### This string consists of a number of characters. We can access the individual characters with the help of indexing. For example, to find only the first letter of your name, you can type in [0]. Now try to find the second letter in your name:\n",
        "\n",
        "my_name =\"Birte\"\n",
        "print(my_name[1])"
      ],
      "metadata": {
        "id": "BAnnmODxiEj4",
        "colab": {
          "base_uri": "https://localhost:8080/"
        },
        "outputId": "d2efd3db-0484-450f-bff1-9ad73f2cd3e0"
      },
      "execution_count": 26,
      "outputs": [
        {
          "output_type": "stream",
          "name": "stdout",
          "text": [
            "i\n"
          ]
        }
      ]
    },
    {
      "cell_type": "code",
      "source": [
        "# @markdown ##### To find the last letter in your name, you might want to know how many letters your name has. We can do this with the function len(), which returns the length of a string:\n",
        "print(len(my_name))"
      ],
      "metadata": {
        "id": "vOtpFb9tiug8",
        "colab": {
          "base_uri": "https://localhost:8080/"
        },
        "outputId": "5a3da8ce-3b23-4bf3-a00d-8c4a2cff55d6"
      },
      "execution_count": 27,
      "outputs": [
        {
          "output_type": "stream",
          "name": "stdout",
          "text": [
            "5\n"
          ]
        }
      ]
    },
    {
      "cell_type": "code",
      "source": [
        "# @markdown ##### Can you explain what this code is doing?\n",
        "print(my_name[len(my_name)-1])\n",
        "print(my_name[-1])"
      ],
      "metadata": {
        "id": "1eSonN1bjIkU",
        "colab": {
          "base_uri": "https://localhost:8080/"
        },
        "outputId": "521f3b90-a608-4482-afa8-a2dcc03a3b10"
      },
      "execution_count": 30,
      "outputs": [
        {
          "output_type": "stream",
          "name": "stdout",
          "text": [
            "e\n",
            "e\n"
          ]
        }
      ]
    },
    {
      "cell_type": "code",
      "source": [
        "# @markdown ##### Can you explain what this code is doing?\n",
        "first_two_letters = my_name[0:2]\n",
        "print(first_two_letters)\n",
        "print(my_name[0:2])"
      ],
      "metadata": {
        "id": "rxx2xi9tleiD",
        "colab": {
          "base_uri": "https://localhost:8080/"
        },
        "outputId": "a4ee6356-b410-4232-abe6-b1a38fdb2020"
      },
      "execution_count": 31,
      "outputs": [
        {
          "output_type": "stream",
          "name": "stdout",
          "text": [
            "Bi\n",
            "Bi\n"
          ]
        }
      ]
    },
    {
      "cell_type": "code",
      "source": [
        "# @markdown ##### **Exercise 3:** Given the following two words, can you write code that prints out the word humanities using only slicing and concatenation? (So, no quotes are allowed in your code.)\n",
        "\n",
        "word1 = \"human\"\n",
        "word2 = \"opportunities\"\n",
        "\n",
        "# insert your code here\n",
        "print(word1+word2[8:13])\n"
      ],
      "metadata": {
        "id": "KEg-uShKjs5j",
        "colab": {
          "base_uri": "https://localhost:8080/"
        },
        "outputId": "80aa2c1b-f679-4341-e03f-0c8a85243f76"
      },
      "execution_count": 36,
      "outputs": [
        {
          "output_type": "stream",
          "name": "stdout",
          "text": [
            "humanities\n"
          ]
        }
      ]
    },
    {
      "cell_type": "markdown",
      "source": [
        "\n",
        "# Lists\n",
        "\n",
        "\n",
        ">**List:** An ordered, changeable collection of values.\n",
        "\n",
        "Lists are denoted by **square brackets [ ]**, and its elements are separated by commas. Any object type could be a value within a list, including other lists or collections of objects (putting a list within a list is called nesting).\n",
        "\n",
        "## Example\n",
        "\n",
        "You love traveling to different continents. Perhaps you want to write a piece of code to announce your passion.\n",
        "\n",
        "First, let's describe everything we want the code to do. We could:\n",
        "\n",
        "1. Create a list of seven continents, including 'Asia', 'Africa', 'North America', 'South America', 'Antarctica', 'Europe', 'Australia'\n",
        "\n",
        "2. For each contintent in the list,\n",
        "    print \"This continent is one of the seven continents\",\n",
        "    and then print \"I love this continent\".\n",
        "    \n",
        "3. When done with all continents, print \"But aren't there only six continents?\"\n",
        "\n",
        "That is what the code below does. You might not fully be aware of the details of the structure, but you can begin to read it:"
      ],
      "metadata": {
        "id": "GhYFQ1noU-5w"
      }
    },
    {
      "cell_type": "code",
      "source": [
        "SevenContinents = ['Asia', 'Africa', 'North America', 'South America', 'Antarctica', 'Europe', 'Australia']\n",
        "\n",
        "for continent in SevenContinents:\n",
        "    print(continent, \"is one of the seven continents\")\n",
        "    print(\"I love\", continent)\n",
        "print(\"But aren't there only six continents?\")\n",
        "\n",
        "#(Run me!)"
      ],
      "metadata": {
        "id": "Vi4x6CIHU06p",
        "colab": {
          "base_uri": "https://localhost:8080/"
        },
        "outputId": "96bcfafd-2440-432a-edce-586e32e77f5d"
      },
      "execution_count": 37,
      "outputs": [
        {
          "output_type": "stream",
          "name": "stdout",
          "text": [
            "Asia is one of the seven continents\n",
            "I love Asia\n",
            "Africa is one of the seven continents\n",
            "I love Africa\n",
            "North America is one of the seven continents\n",
            "I love North America\n",
            "South America is one of the seven continents\n",
            "I love South America\n",
            "Antarctica is one of the seven continents\n",
            "I love Antarctica\n",
            "Europe is one of the seven continents\n",
            "I love Europe\n",
            "Australia is one of the seven continents\n",
            "I love Australia\n",
            "But aren't there only six continents?\n"
          ]
        }
      ]
    },
    {
      "cell_type": "markdown",
      "source": [
        "This code also uses a **for loop**.\n",
        "Python provides the so-called for-statements that allow us to iterate through any iterable object and perform actions on its elements."
      ],
      "metadata": {
        "id": "J9a9qpUraMQB"
      }
    },
    {
      "cell_type": "code",
      "source": [
        "# @markdown ##### **Exercise 4:** Now let's use the above example to list South Africa's so called *Big Five*. Find out what animals are part of the Big Five and adapt the code to this new example. Then ask, why the hippo is not part of the Big Five.\n",
        "\n",
        "# add your code here below:\n",
        "\n",
        "BigFive = [\"Lion\", \"Elephant\", \"Rhinoceros\", \"Leopard\", \"Black Buffalo\"]\n",
        "\n",
        "for animal in BigFive:\n",
        "  print(animal, \"is one of the Big Five.\")\n",
        "  print(\"I love\", animal + \".\")\n",
        "print(\"But why is the Hippo not part of the Big Five?\")\n"
      ],
      "metadata": {
        "id": "Z1E4J5r9Ycq2",
        "colab": {
          "base_uri": "https://localhost:8080/"
        },
        "outputId": "0b4a2f8f-5346-4018-81bf-906b603b6de0"
      },
      "execution_count": 48,
      "outputs": [
        {
          "output_type": "stream",
          "name": "stdout",
          "text": [
            "Lion is one of the Big Five.\n",
            "I love Lion.\n",
            "Elephant is one of the Big Five.\n",
            "I love Elephant.\n",
            "Rhinoceros is one of the Big Five.\n",
            "I love Rhinoceros.\n",
            "Leopard is one of the Big Five.\n",
            "I love Leopard.\n",
            "Black Buffalo is one of the Big Five.\n",
            "I love Black Buffalo.\n",
            "But why is the Hippo not part of the Big Five?\n"
          ]
        }
      ]
    },
    {
      "cell_type": "markdown",
      "source": [
        "## Let's add the \"if, else\" combination\n",
        "\n",
        "Run the example and try to understand what this code is doing"
      ],
      "metadata": {
        "id": "SB9shIOLX0X-"
      }
    },
    {
      "cell_type": "code",
      "source": [
        "good_reads = [\"The Hunger games\", \"A Clockwork Orange\",\n",
        "              \"Pride and Prejudice\", \"Water for Elephants\",\n",
        "              \"The Shadow of the Wind\", \"Bel Canto\"]\n",
        "\n",
        "book = \"A Clockwork Orange\"\n",
        "if book in good_reads:\n",
        "    print(book + \" is in the collection\")\n",
        "    print(\"A lot more\")\n",
        "    print(\"Still more to come\")\n",
        "else:\n",
        "    print(book + \" is NOT in the collection\")\n",
        "\n",
        "#run me"
      ],
      "metadata": {
        "id": "Rj2WAT-BarYm",
        "colab": {
          "base_uri": "https://localhost:8080/"
        },
        "outputId": "674b997d-6114-4773-d879-5e007aa037d4"
      },
      "execution_count": 49,
      "outputs": [
        {
          "output_type": "stream",
          "name": "stdout",
          "text": [
            "A Clockwork Orange is in the collection\n",
            "A lot more\n",
            "Still more to come\n"
          ]
        }
      ]
    },
    {
      "cell_type": "markdown",
      "source": [
        "#### Exercise 6\n"
      ],
      "metadata": {
        "id": "BkOryi5E-E-b"
      }
    },
    {
      "cell_type": "code",
      "source": [
        "# @markdown ##### 1. Create a list of German political parties\n",
        "\n",
        "# add you code here below\n",
        "german_political_party = [\"CDU\", \"SPD\", \"Die Gruenen\", \"Die Linke\", \"FDP\"]\n",
        "\n",
        "\n"
      ],
      "metadata": {
        "id": "0om4An3eWlyk"
      },
      "execution_count": 58,
      "outputs": []
    },
    {
      "cell_type": "code",
      "source": [
        "# @markdown ##### 2. Now check that your code created that variable by typing the variable name (and running the code cell).\n",
        "\n",
        "#add your code here below\n",
        "print(german_political_party)\n",
        "print(german_political_party[3])"
      ],
      "metadata": {
        "id": "b3vb3VQkXHoD",
        "colab": {
          "base_uri": "https://localhost:8080/"
        },
        "outputId": "1f4200cd-32df-44ce-9208-5b154419ade5"
      },
      "execution_count": 60,
      "outputs": [
        {
          "output_type": "stream",
          "name": "stdout",
          "text": [
            "['CDU', 'SPD', 'Die Gruenen', 'Die Linke', 'FDP']\n",
            "Die Linke\n"
          ]
        }
      ]
    },
    {
      "cell_type": "code",
      "source": [
        "# @markdown ##### 3. Now add: For each party, print ('I will vote for this party')\n",
        "\n",
        "#add your code here below\n",
        "for party in german_political_party:\n",
        "  print(\"I will vote for \" + party + \".\")"
      ],
      "metadata": {
        "id": "pHRlVE6AZvzK",
        "colab": {
          "base_uri": "https://localhost:8080/"
        },
        "outputId": "f4fc2f72-6987-4a93-c12b-035e549f85e1"
      },
      "execution_count": 64,
      "outputs": [
        {
          "output_type": "stream",
          "name": "stdout",
          "text": [
            "I will vote for CDU.\n",
            "I will vote for SPD.\n",
            "I will vote for Die Gruenen.\n",
            "I will vote for Die Linke.\n",
            "I will vote for FDP.\n"
          ]
        }
      ]
    },
    {
      "cell_type": "code",
      "source": [
        "# @markdown ##### 3. Let's assume we would not like to vote for each party. Create a pogram that says 'I will not vote for *name a party*. For the other parties, write \"I will consider voting\".\n",
        "\n",
        "#add your code here\n",
        "party = \"SPD\"\n",
        "if party in german_political_party:\n",
        "  print(\"I will consider voting.\")\n",
        "else:\n",
        "  print(\"I will not vote for \" + party + \".\")\n"
      ],
      "metadata": {
        "id": "XFK6Pw5jeKLL",
        "colab": {
          "base_uri": "https://localhost:8080/"
        },
        "outputId": "86d43821-c707-45ef-991b-94e5ff274f1a"
      },
      "execution_count": 69,
      "outputs": [
        {
          "output_type": "stream",
          "name": "stdout",
          "text": [
            "I will consider voting.\n"
          ]
        }
      ]
    },
    {
      "cell_type": "markdown",
      "source": [
        "## Creating lists from text\n",
        "\n",
        "We can also create a list of the words from a sentence. For this, we use the split() function, which will split each word into a single unit."
      ],
      "metadata": {
        "id": "LeA0bv1sqeev"
      }
    },
    {
      "cell_type": "code",
      "source": [
        "sentence = \"Bleiburg, 14. April. (Erdbeben.) Um 11 Uhr \\\n",
        "15 Minuten nachts wurde ein unheim­ liches Erdbeben mit schauerlichem unterirdischem\\\n",
        "Brausen und Getöse vernommen.\"\n",
        "\n",
        "sentence.split()"
      ],
      "metadata": {
        "id": "jxY5OAftq1D6",
        "colab": {
          "base_uri": "https://localhost:8080/"
        },
        "outputId": "0ebe09f2-a6e6-47e7-fcc6-3d963d7c36e2"
      },
      "execution_count": 70,
      "outputs": [
        {
          "output_type": "execute_result",
          "data": {
            "text/plain": [
              "['Bleiburg,',\n",
              " '14.',\n",
              " 'April.',\n",
              " '(Erdbeben.)',\n",
              " 'Um',\n",
              " '11',\n",
              " 'Uhr',\n",
              " '15',\n",
              " 'Minuten',\n",
              " 'nachts',\n",
              " 'wurde',\n",
              " 'ein',\n",
              " 'unheim\\xad',\n",
              " 'liches',\n",
              " 'Erdbeben',\n",
              " 'mit',\n",
              " 'schauerlichem',\n",
              " 'unterirdischemBrausen',\n",
              " 'und',\n",
              " 'Getöse',\n",
              " 'vernommen.']"
            ]
          },
          "metadata": {},
          "execution_count": 70
        }
      ]
    },
    {
      "cell_type": "markdown",
      "source": [
        "We can further add new items to a list. Let's start with an empty list this time and add two words from the splitted words above. To add items to a list, we use the append() function."
      ],
      "metadata": {
        "id": "Ns1FLYues9g-"
      }
    },
    {
      "cell_type": "code",
      "source": [
        "list = []\n",
        "list.append('Getöse')\n",
        "list.append('Erdbeben')\n",
        "list.append('schauerlich')\n",
        "print(list)"
      ],
      "metadata": {
        "id": "fHQwRx4Xs72S",
        "colab": {
          "base_uri": "https://localhost:8080/"
        },
        "outputId": "3b0370c2-3d1c-4a8b-d52f-3d33d956288c"
      },
      "execution_count": 74,
      "outputs": [
        {
          "output_type": "stream",
          "name": "stdout",
          "text": [
            "['Getöse', 'Erdbeben', 'schauerlich']\n"
          ]
        }
      ]
    }
  ]
}